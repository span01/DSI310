{
 "cells": [
  {
   "cell_type": "code",
   "execution_count": 1,
   "id": "de6fcb1f-afed-4490-8a39-960dcf5c6d4b",
   "metadata": {},
   "outputs": [
    {
     "name": "stdout",
     "output_type": "stream",
     "text": [
      "Collecting bs4\n",
      "  Downloading bs4-0.0.1.tar.gz (1.1 kB)\n",
      "  Preparing metadata (setup.py) ... \u001b[?25ldone\n",
      "\u001b[?25hRequirement already satisfied: beautifulsoup4 in /opt/conda/lib/python3.10/site-packages (from bs4) (4.11.1)\n",
      "Requirement already satisfied: soupsieve>1.2 in /opt/conda/lib/python3.10/site-packages (from beautifulsoup4->bs4) (2.3.2.post1)\n",
      "Building wheels for collected packages: bs4\n",
      "  Building wheel for bs4 (setup.py) ... \u001b[?25ldone\n",
      "\u001b[?25h  Created wheel for bs4: filename=bs4-0.0.1-py3-none-any.whl size=1257 sha256=dfac7433ccdf2d0a2a5416b9bdd0461b6f014f2ea6dab9826429a5f8416d1f61\n",
      "  Stored in directory: /home/jovyan/.cache/pip/wheels/25/42/45/b773edc52acb16cd2db4cf1a0b47117e2f69bb4eb300ed0e70\n",
      "Successfully built bs4\n",
      "Installing collected packages: bs4\n",
      "Successfully installed bs4-0.0.1\n"
     ]
    }
   ],
   "source": [
    "!pip install bs4"
   ]
  },
  {
   "cell_type": "code",
   "execution_count": 2,
   "id": "795ac92c-7d79-4e93-b88f-5aa9f5966494",
   "metadata": {},
   "outputs": [
    {
     "name": "stdout",
     "output_type": "stream",
     "text": [
      "Requirement already satisfied: requests in /opt/conda/lib/python3.10/site-packages (2.28.1)\n",
      "Requirement already satisfied: idna<4,>=2.5 in /opt/conda/lib/python3.10/site-packages (from requests) (3.3)\n",
      "Requirement already satisfied: urllib3<1.27,>=1.21.1 in /opt/conda/lib/python3.10/site-packages (from requests) (1.26.11)\n",
      "Requirement already satisfied: charset-normalizer<3,>=2 in /opt/conda/lib/python3.10/site-packages (from requests) (2.1.0)\n",
      "Requirement already satisfied: certifi>=2017.4.17 in /opt/conda/lib/python3.10/site-packages (from requests) (2022.6.15)\n"
     ]
    }
   ],
   "source": [
    "!pip install requests"
   ]
  },
  {
   "cell_type": "code",
   "execution_count": 3,
   "id": "14f9ae74-25bc-42c3-bb34-9b327984bb0b",
   "metadata": {},
   "outputs": [
    {
     "name": "stdout",
     "output_type": "stream",
     "text": [
      "Requirement already satisfied: pandas in /opt/conda/lib/python3.10/site-packages (1.4.3)\n",
      "Requirement already satisfied: python-dateutil>=2.8.1 in /opt/conda/lib/python3.10/site-packages (from pandas) (2.8.2)\n",
      "Requirement already satisfied: pytz>=2020.1 in /opt/conda/lib/python3.10/site-packages (from pandas) (2022.1)\n",
      "Requirement already satisfied: numpy>=1.21.0 in /opt/conda/lib/python3.10/site-packages (from pandas) (1.22.4)\n",
      "Requirement already satisfied: six>=1.5 in /opt/conda/lib/python3.10/site-packages (from python-dateutil>=2.8.1->pandas) (1.16.0)\n"
     ]
    }
   ],
   "source": [
    "!pip install pandas"
   ]
  },
  {
   "cell_type": "code",
   "execution_count": 4,
   "id": "c46be34f-8b78-4e05-8b42-787619a4c245",
   "metadata": {},
   "outputs": [
    {
     "name": "stdout",
     "output_type": "stream",
     "text": [
      "Collecting openpyxl\n",
      "  Downloading openpyxl-3.0.10-py2.py3-none-any.whl (242 kB)\n",
      "\u001b[2K     \u001b[90m━━━━━━━━━━━━━━━━━━━━━━━━━━━━━━━━━━━━━━━\u001b[0m \u001b[32m242.1/242.1 kB\u001b[0m \u001b[31m2.9 MB/s\u001b[0m eta \u001b[36m0:00:00\u001b[0ma \u001b[36m0:00:01\u001b[0m\n",
      "\u001b[?25hCollecting et-xmlfile\n",
      "  Downloading et_xmlfile-1.1.0-py3-none-any.whl (4.7 kB)\n",
      "Installing collected packages: et-xmlfile, openpyxl\n",
      "Successfully installed et-xmlfile-1.1.0 openpyxl-3.0.10\n"
     ]
    }
   ],
   "source": [
    "!pip install openpyxl"
   ]
  },
  {
   "cell_type": "code",
   "execution_count": 5,
   "id": "406c5c2d-c0ed-4b25-9157-3247da8e1263",
   "metadata": {},
   "outputs": [],
   "source": [
    "import pandas as pd\n",
    "import bs4\n",
    "import requests\n",
    "import openpyxl"
   ]
  },
  {
   "cell_type": "code",
   "execution_count": 6,
   "id": "25ed96a5-4530-46f7-9a49-56d224210349",
   "metadata": {},
   "outputs": [
    {
     "name": "stdout",
     "output_type": "stream",
     "text": [
      "Complete page number:  1\n",
      "Complete page number:  2\n",
      "Complete page number:  3\n",
      "Complete page number:  4\n",
      "Complete page number:  5\n",
      "Complete page number:  6\n",
      "Complete page number:  7\n",
      "Complete page number:  8\n",
      "Complete page number:  9\n",
      "Complete page number:  10\n",
      "Complete page number:  11\n",
      "Complete page number:  12\n",
      "Complete page number:  13\n",
      "Complete page number:  14\n",
      "Complete page number:  15\n",
      "Complete page number:  16\n",
      "Complete page number:  17\n",
      "Complete page number:  18\n",
      "Complete page number:  19\n",
      "Complete page number:  20\n",
      "Complete page number:  21\n",
      "Complete page number:  22\n",
      "Complete page number:  23\n",
      "Complete page number:  24\n",
      "Complete page number:  25\n",
      "Complete page number:  26\n",
      "Complete page number:  27\n",
      "Complete page number:  28\n",
      "Complete page number:  29\n"
     ]
    },
    {
     "data": {
      "text/html": [
       "<div>\n",
       "<style scoped>\n",
       "    .dataframe tbody tr th:only-of-type {\n",
       "        vertical-align: middle;\n",
       "    }\n",
       "\n",
       "    .dataframe tbody tr th {\n",
       "        vertical-align: top;\n",
       "    }\n",
       "\n",
       "    .dataframe thead th {\n",
       "        text-align: right;\n",
       "    }\n",
       "</style>\n",
       "<table border=\"1\" class=\"dataframe\">\n",
       "  <thead>\n",
       "    <tr style=\"text-align: right;\">\n",
       "      <th></th>\n",
       "      <th>news</th>\n",
       "    </tr>\n",
       "    <tr>\n",
       "      <th>topics</th>\n",
       "      <th></th>\n",
       "    </tr>\n",
       "  </thead>\n",
       "  <tbody>\n",
       "    <tr>\n",
       "      <th>The Muhammadan Bean: The Secret History of Islam and Coffee</th>\n",
       "      <td>Abdul-Rehman Malik explores the longstanding r...</td>\n",
       "    </tr>\n",
       "    <tr>\n",
       "      <th>Coffee - a Hellish Brew</th>\n",
       "      <td>Series tracing the history and impact of coffe...</td>\n",
       "    </tr>\n",
       "    <tr>\n",
       "      <th>David White's Coffee Break</th>\n",
       "      <td>Join David for some fun and games as you take ...</td>\n",
       "    </tr>\n",
       "    <tr>\n",
       "      <th>Jill Scottâs Coffee Club</th>\n",
       "      <td>Jill Scottâs Coffee Club brings you an intim...</td>\n",
       "    </tr>\n",
       "    <tr>\n",
       "      <th>Cuppy's Coffee Mix</th>\n",
       "      <td>Cuppy's Coffee Mix</td>\n",
       "    </tr>\n",
       "    <tr>\n",
       "      <th>...</th>\n",
       "      <td>...</td>\n",
       "    </tr>\n",
       "    <tr>\n",
       "      <th>The Farming World: Coffee Fungus Spreads into Uguanda</th>\n",
       "      <td>Fungal disease is threatening the Ugandan coff...</td>\n",
       "    </tr>\n",
       "    <tr>\n",
       "      <th>Entrepreneur milks new coffee trend in Ivory Coast</th>\n",
       "      <td>Cafe founder Fabienne Dervain tells the BBC wh...</td>\n",
       "    </tr>\n",
       "    <tr>\n",
       "      <th>Coffee maker Keurig sells to Douwe Egberts owner for $13.9bn</th>\n",
       "      <td>Keurig Green Mountain, which makes K-cups sing...</td>\n",
       "    </tr>\n",
       "    <tr>\n",
       "      <th>Who'd have Thought It?: Coffee</th>\n",
       "      <td>So how do we go from a little green seed to a ...</td>\n",
       "    </tr>\n",
       "    <tr>\n",
       "      <th>Man denies Westerham Costa coffee death crash</th>\n",
       "      <td>An 87-year-old man pleads not guilty to killin...</td>\n",
       "    </tr>\n",
       "  </tbody>\n",
       "</table>\n",
       "<p>290 rows × 1 columns</p>\n",
       "</div>"
      ],
      "text/plain": [
       "                                                                                                 news\n",
       "topics                                                                                               \n",
       "The Muhammadan Bean: The Secret History of Isla...  Abdul-Rehman Malik explores the longstanding r...\n",
       "Coffee - a Hellish Brew                             Series tracing the history and impact of coffe...\n",
       "David White's Coffee Break                          Join David for some fun and games as you take ...\n",
       "Jill Scottâs Coffee Club                          Jill Scottâs Coffee Club brings you an intim...\n",
       "Cuppy's Coffee Mix                                                                 Cuppy's Coffee Mix\n",
       "...                                                                                               ...\n",
       "The Farming World: Coffee Fungus Spreads into U...  Fungal disease is threatening the Ugandan coff...\n",
       "Entrepreneur milks new coffee trend in Ivory Coast  Cafe founder Fabienne Dervain tells the BBC wh...\n",
       "Coffee maker Keurig sells to Douwe Egberts owne...  Keurig Green Mountain, which makes K-cups sing...\n",
       "Who'd have Thought It?: Coffee                      So how do we go from a little green seed to a ...\n",
       "Man denies Westerham Costa coffee death crash       An 87-year-old man pleads not guilty to killin...\n",
       "\n",
       "[290 rows x 1 columns]"
      ]
     },
     "execution_count": 6,
     "metadata": {},
     "output_type": "execute_result"
    }
   ],
   "source": [
    "page = 1\n",
    "topics_list = []\n",
    "news_list =[]\n",
    "while page <= 29:\n",
    "    data = requests.get('https://www.bbc.co.uk/search?q=coffee&page=' + str(page))\n",
    "    soup = bs4.BeautifulSoup(data.text)\n",
    "    for n in soup.find_all('div' ,{'class' : 'ssrcss-dirbxo-PromoSwitchLayoutAtBreakpoints e3z3r3u0'}):\n",
    "        topics_list.append(n.find('div',{'class' : 'ssrcss-tq7xfh-PromoContent e1f5wbog7'}).find('span').text)\n",
    "        news_list.append(n.find('p',{'class' : 'ssrcss-1q0x1qg-Paragraph eq5iqo00'}).text)\n",
    "    print('Complete page number: ',page)\n",
    "    page += 1\n",
    "    \n",
    "table = pd.DataFrame([topics_list, news_list]).transpose()\n",
    "table.columns = ['topics', 'news']\n",
    "table.set_index('topics')"
   ]
  },
  {
   "cell_type": "code",
   "execution_count": 8,
   "id": "0cd6da9f-cc4a-4708-ba7d-dbe62044f29b",
   "metadata": {},
   "outputs": [],
   "source": []
  },
  {
   "cell_type": "code",
   "execution_count": 2,
   "id": "2a761eaf-414b-4937-b220-234c6af580e8",
   "metadata": {},
   "outputs": [],
   "source": [
    "from dsmlibrary.datanode import DataNode"
   ]
  },
  {
   "cell_type": "code",
   "execution_count": 3,
   "id": "75c24333-a7c8-4f8e-b754-82704b057bd6",
   "metadata": {},
   "outputs": [],
   "source": [
    "dir_raw_id = 121"
   ]
  },
  {
   "cell_type": "code",
   "execution_count": 5,
   "id": "d5cba730-5773-4a6a-9124-9c050d6b2524",
   "metadata": {},
   "outputs": [
    {
     "name": "stdout",
     "output_type": "stream",
     "text": [
      "Init DataNode sucessful!\n"
     ]
    }
   ],
   "source": [
    "datanode = DataNode()"
   ]
  },
  {
   "cell_type": "code",
   "execution_count": 6,
   "id": "bb078bf5-81a6-49f4-9a3d-7e97eac74bc0",
   "metadata": {},
   "outputs": [
    {
     "name": "stdin",
     "output_type": "stream",
     "text": [
      "File All News.csv alrady exists, do you want to replace y/n :  y\n"
     ]
    },
    {
     "data": {
      "application/vnd.jupyter.widget-view+json": {
       "model_id": "d5e188be232d475a970d4152bfa5fae1",
       "version_major": 2,
       "version_minor": 0
      },
      "text/plain": [
       "  0%|          | 0.00/41.5k [00:00<?, ?B/s]"
      ]
     },
     "metadata": {},
     "output_type": "display_data"
    },
    {
     "data": {
      "text/plain": [
       "{'id': 245,\n",
       " 'msg': 'file All News.csv create sucessful',\n",
       " 'path': 'taksaporn/DSI310-16/rawData/All News.csv',\n",
       " 'uploaded': True}"
      ]
     },
     "execution_count": 6,
     "metadata": {},
     "output_type": "execute_result"
    }
   ],
   "source": [
    "datanode.upload_file(directory_id=dir_raw_id, file_path='All News.csv')"
   ]
  },
  {
   "cell_type": "code",
   "execution_count": null,
   "id": "08fe4c6a-085b-42f8-a23c-9e17475bd045",
   "metadata": {},
   "outputs": [],
   "source": []
  }
 ],
 "metadata": {
  "kernelspec": {
   "display_name": "Python 3 (ipykernel)",
   "language": "python",
   "name": "python3"
  },
  "language_info": {
   "codemirror_mode": {
    "name": "ipython",
    "version": 3
   },
   "file_extension": ".py",
   "mimetype": "text/x-python",
   "name": "python",
   "nbconvert_exporter": "python",
   "pygments_lexer": "ipython3",
   "version": "3.10.5"
  }
 },
 "nbformat": 4,
 "nbformat_minor": 5
}
