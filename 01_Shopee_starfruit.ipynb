{
 "cells": [
  {
   "cell_type": "markdown",
   "metadata": {},
   "source": [
    "# 01_scrap"
   ]
  },
  {
   "cell_type": "code",
   "execution_count": 1,
   "metadata": {},
   "outputs": [
    {
     "name": "stdout",
     "output_type": "stream",
     "text": [
      "Requirement already satisfied: selenium in c:\\users\\acer\\.conda\\envs\\envel\\lib\\site-packages (3.141.0)\n",
      "Requirement already satisfied: urllib3 in c:\\users\\acer\\.conda\\envs\\envel\\lib\\site-packages (from selenium) (1.25.10)\n",
      "Requirement already satisfied: bs4 in c:\\users\\acer\\.conda\\envs\\envel\\lib\\site-packages (0.0.1)\n",
      "Requirement already satisfied: beautifulsoup4 in c:\\users\\acer\\.conda\\envs\\envel\\lib\\site-packages (from bs4) (4.11.1)\n",
      "Requirement already satisfied: soupsieve>1.2 in c:\\users\\acer\\.conda\\envs\\envel\\lib\\site-packages (from beautifulsoup4->bs4) (2.3.2.post1)\n",
      "Requirement already satisfied: pandas in c:\\users\\acer\\.conda\\envs\\envel\\lib\\site-packages (1.1.5)\n",
      "Requirement already satisfied: python-dateutil>=2.7.3 in c:\\users\\acer\\.conda\\envs\\envel\\lib\\site-packages (from pandas) (2.8.1)\n",
      "Requirement already satisfied: pytz>=2017.2 in c:\\users\\acer\\.conda\\envs\\envel\\lib\\site-packages (from pandas) (2022.5)\n",
      "Requirement already satisfied: numpy>=1.15.4 in c:\\users\\acer\\.conda\\envs\\envel\\lib\\site-packages (from pandas) (1.19.5)\n",
      "Requirement already satisfied: six>=1.5 in c:\\users\\acer\\.conda\\envs\\envel\\lib\\site-packages (from python-dateutil>=2.7.3->pandas) (1.15.0)\n",
      "Requirement already satisfied: openpyxl in c:\\users\\acer\\.conda\\envs\\envel\\lib\\site-packages (3.0.10)\n",
      "Requirement already satisfied: et-xmlfile in c:\\users\\acer\\.conda\\envs\\envel\\lib\\site-packages (from openpyxl) (1.1.0)\n"
     ]
    }
   ],
   "source": [
    "!pip install selenium\n",
    "!pip install bs4\n",
    "!pip install pandas\n",
    "!pip install openpyxl"
   ]
  },
  {
   "cell_type": "code",
   "execution_count": 2,
   "metadata": {},
   "outputs": [],
   "source": [
    "import pandas as pd\n",
    "from selenium import webdriver\n",
    "from selenium.webdriver.firefox.options import Options\n",
    "from selenium.webdriver.common.keys import Keys\n",
    "import bs4\n",
    "import time\n",
    "import re"
   ]
  },
  {
   "cell_type": "code",
   "execution_count": 4,
   "metadata": {},
   "outputs": [
    {
     "data": {
      "text/html": [
       "<div>\n",
       "<style scoped>\n",
       "    .dataframe tbody tr th:only-of-type {\n",
       "        vertical-align: middle;\n",
       "    }\n",
       "\n",
       "    .dataframe tbody tr th {\n",
       "        vertical-align: top;\n",
       "    }\n",
       "\n",
       "    .dataframe thead th {\n",
       "        text-align: right;\n",
       "    }\n",
       "</style>\n",
       "<table border=\"1\" class=\"dataframe\">\n",
       "  <thead>\n",
       "    <tr style=\"text-align: right;\">\n",
       "      <th></th>\n",
       "      <th>Product</th>\n",
       "      <th>price</th>\n",
       "      <th>sales</th>\n",
       "      <th>province</th>\n",
       "    </tr>\n",
       "  </thead>\n",
       "  <tbody>\n",
       "    <tr>\n",
       "      <th>0</th>\n",
       "      <td>🌱เมล็ดพันธุ์มะเขือเทศเชอรี่กลม🌱 30 เมล็ด  5️⃣เ...</td>\n",
       "      <td>8.0</td>\n",
       "      <td>38000.0</td>\n",
       "      <td>จังหวัดนนทบุรี</td>\n",
       "    </tr>\n",
       "    <tr>\n",
       "      <th>1</th>\n",
       "      <td>มะเดื่อฝรั่ง สายพันธ์ Bordissot Rossa พันธ์จาก...</td>\n",
       "      <td>480.0</td>\n",
       "      <td>13.0</td>\n",
       "      <td>จังหวัดนครปฐม</td>\n",
       "    </tr>\n",
       "    <tr>\n",
       "      <th>2</th>\n",
       "      <td>ผลิตภัณฑ์ใหม่ เมล็ดพันธุ์ ผักซอง ศรแดง มะเขือเ...</td>\n",
       "      <td>10.0</td>\n",
       "      <td>0.0</td>\n",
       "      <td>จังหวัดกระบี่</td>\n",
       "    </tr>\n",
       "    <tr>\n",
       "      <th>3</th>\n",
       "      <td>ผลิตภัณฑ์ใหม่ เมล็ดพันธุ์ จุดประเทศไทย ❤พะยูงไ...</td>\n",
       "      <td>39.0</td>\n",
       "      <td>0.0</td>\n",
       "      <td>จังหวัดกระบี่</td>\n",
       "    </tr>\n",
       "    <tr>\n",
       "      <th>4</th>\n",
       "      <td>เมล็ด ผักบุ้ง อินทรีย์ เมล็ดพันธุ์คุณภาพสูงในส...</td>\n",
       "      <td>12.0</td>\n",
       "      <td>0.0</td>\n",
       "      <td>จังหวัดนราธิวาส</td>\n",
       "    </tr>\n",
       "    <tr>\n",
       "      <th>...</th>\n",
       "      <td>...</td>\n",
       "      <td>...</td>\n",
       "      <td>...</td>\n",
       "      <td>...</td>\n",
       "    </tr>\n",
       "    <tr>\n",
       "      <th>115</th>\n",
       "      <td>⭐️ น้ำหมักชีวภาพ มะเฟือง 250 ml. ⭐️</td>\n",
       "      <td>55.0</td>\n",
       "      <td>261.0</td>\n",
       "      <td>จังหวัดกรุงเทพมหานคร</td>\n",
       "    </tr>\n",
       "    <tr>\n",
       "      <th>116</th>\n",
       "      <td>ตะกั่วตกปลา ทรงมะเฟือง 20g 30g 40g 50g น้ำหนัก...</td>\n",
       "      <td>20.0</td>\n",
       "      <td>17.0</td>\n",
       "      <td>จังหวัดกรุงเทพมหานคร</td>\n",
       "    </tr>\n",
       "    <tr>\n",
       "      <th>117</th>\n",
       "      <td>แม่ใหญ่สมุนไพร โลชั่นมะเฟืองสดผสมขมิ้นชัน</td>\n",
       "      <td>47.0</td>\n",
       "      <td>58.0</td>\n",
       "      <td>จังหวัดกรุงเทพมหานคร</td>\n",
       "    </tr>\n",
       "    <tr>\n",
       "      <th>118</th>\n",
       "      <td>🌿ชีวาร์ Chewa🌿เจลล้างหน้าว่านหางจรเข้และสารสกั...</td>\n",
       "      <td>159.0</td>\n",
       "      <td>4.0</td>\n",
       "      <td>จังหวัดกรุงเทพมหานคร</td>\n",
       "    </tr>\n",
       "    <tr>\n",
       "      <th>119</th>\n",
       "      <td>🌈น้ำหมักชีวภาพ มะเฟือง ขจัดสิวฝ้า🌈</td>\n",
       "      <td>55.0</td>\n",
       "      <td>224.0</td>\n",
       "      <td>จังหวัดกรุงเทพมหานคร</td>\n",
       "    </tr>\n",
       "  </tbody>\n",
       "</table>\n",
       "<p>120 rows × 4 columns</p>\n",
       "</div>"
      ],
      "text/plain": [
       "                                               Product  price    sales  \\\n",
       "0    🌱เมล็ดพันธุ์มะเขือเทศเชอรี่กลม🌱 30 เมล็ด  5️⃣เ...    8.0  38000.0   \n",
       "1    มะเดื่อฝรั่ง สายพันธ์ Bordissot Rossa พันธ์จาก...  480.0     13.0   \n",
       "2    ผลิตภัณฑ์ใหม่ เมล็ดพันธุ์ ผักซอง ศรแดง มะเขือเ...   10.0      0.0   \n",
       "3    ผลิตภัณฑ์ใหม่ เมล็ดพันธุ์ จุดประเทศไทย ❤พะยูงไ...   39.0      0.0   \n",
       "4    เมล็ด ผักบุ้ง อินทรีย์ เมล็ดพันธุ์คุณภาพสูงในส...   12.0      0.0   \n",
       "..                                                 ...    ...      ...   \n",
       "115                ⭐️ น้ำหมักชีวภาพ มะเฟือง 250 ml. ⭐️   55.0    261.0   \n",
       "116  ตะกั่วตกปลา ทรงมะเฟือง 20g 30g 40g 50g น้ำหนัก...   20.0     17.0   \n",
       "117          แม่ใหญ่สมุนไพร โลชั่นมะเฟืองสดผสมขมิ้นชัน   47.0     58.0   \n",
       "118  🌿ชีวาร์ Chewa🌿เจลล้างหน้าว่านหางจรเข้และสารสกั...  159.0      4.0   \n",
       "119                 🌈น้ำหมักชีวภาพ มะเฟือง ขจัดสิวฝ้า🌈   55.0    224.0   \n",
       "\n",
       "                 province  \n",
       "0          จังหวัดนนทบุรี  \n",
       "1           จังหวัดนครปฐม  \n",
       "2           จังหวัดกระบี่  \n",
       "3           จังหวัดกระบี่  \n",
       "4         จังหวัดนราธิวาส  \n",
       "..                    ...  \n",
       "115  จังหวัดกรุงเทพมหานคร  \n",
       "116  จังหวัดกรุงเทพมหานคร  \n",
       "117  จังหวัดกรุงเทพมหานคร  \n",
       "118  จังหวัดกรุงเทพมหานคร  \n",
       "119  จังหวัดกรุงเทพมหานคร  \n",
       "\n",
       "[120 rows x 4 columns]"
      ]
     },
     "execution_count": 4,
     "metadata": {},
     "output_type": "execute_result"
    }
   ],
   "source": [
    "options = Options()\n",
    "options.binary_location = r'C:\\Program Files\\Mozilla Firefox\\firefox.exe'\n",
    "driver = webdriver.Firefox(executable_path=r'C:\\Users\\Acer\\scrapy_shopee_test\\geckodriver.exe', options=options)\n",
    "driver.get('https://shopee.co.th/')\n",
    "time.sleep(5)\n",
    "thai_button = driver.find_element_by_xpath('/html/body/div[2]/div[1]/div[1]/div/div[3]/div[1]/button')\n",
    "thai_button.click()\n",
    "time.sleep(3)\n",
    "close_adver = driver.execute_script('return document.querySelector(\"shopee-banner-popup-stateful\").shadowRoot.querySelector(\"div.shopee-popup__close-btn\")')\n",
    "close_adver.click()\n",
    "time.sleep(3)\n",
    "search = driver.find_element_by_xpath('/html/body/div[1]/div/header/div[2]/div/div[1]/div[1]/div/form/input')\n",
    "search.send_keys('มะเฟือง') #ใส่เนื้อหาที่ต้องการที่จะ Scrape จากเว็บ Shopee\n",
    "search.send_keys(Keys.ENTER)\n",
    "\n",
    "driver.execute_script(\"document.body.style.MozTransform='scale(0.1)';\")\n",
    "driver.execute_script('document.body.style.MozTransformOrigin = \"0 0\";')\n",
    "\n",
    "records=[]\n",
    "for i in range(3):\n",
    "    data = driver.page_source\n",
    "    soup = bs4.BeautifulSoup(data)\n",
    "    All_product=soup.select(\".row>div\")\n",
    "    for Product in All_product:\n",
    "        name = Product.select_one(\"div.col-xs-2-4 > a:nth-child(1) > div:nth-child(1) > div:nth-child(1) > div:nth-child(2) > div:nth-child(1) > div:nth-child(1) > div:nth-child(1)\").text.strip()\n",
    "        try:\n",
    "            p = Product.select_one(\"div.col-xs-2-4 > a:nth-child(1) > div:nth-child(1) > div:nth-child(1) > div:nth-child(2) > div:nth-child(2) > div:nth-child(2)\").text.strip()\n",
    "            if p == '':\n",
    "                print(1/0)\n",
    "        except:\n",
    "            p = Product.select_one(\"div.col-xs-2-4 > a:nth-child(1) > div:nth-child(1) > div:nth-child(1) > div:nth-child(2) > div:nth-child(2)\").text.strip()\n",
    "        p = p.replace(\",\", \"\").replace(\"฿\", \"\").replace(\" \", \"\")\n",
    "        try:\n",
    "            start_price = float(p)\n",
    "        except:\n",
    "            price = p.rpartition('-')[0]\n",
    "            start_price = float(price)\n",
    "\n",
    "        sales = Product.select_one(\"div.col-xs-2-4 > a:nth-child(1) > div:nth-child(1) > div:nth-child(1) > div:nth-child(2) > div:nth-child(3) > div:nth-child(2)\").text.strip().replace(\"พัน\",\"000\").replace(\"ล้าน\",\"000000\")\n",
    "        try:\n",
    "            sales = float(re.sub('\\D','',sales))\n",
    "        except:\n",
    "            sales = 0\n",
    "        province = Product.select_one(\"div.col-xs-2-4 > a:nth-child(1) > div:nth-child(1) > div:nth-child(1) > div:nth-child(2) > div:nth-child(4)\").text.strip()\n",
    "        #print(name, p)\n",
    "        records.append([name, start_price,sales,province])\n",
    "        \n",
    "    time.sleep(5)\n",
    "    next_button = driver.find_element_by_xpath('/html/body/div[1]/div/div[2]/div/div/div[2]/div[2]/div[3]/div/button[8]')\n",
    "    next_button.click()\n",
    "    time.sleep(5)\n",
    "    \n",
    "df = pd.DataFrame(records, columns=['Product','price','sales','province']) # ใส้ชื่อ Columns ทั้งหมด\n",
    "df"
   ]
  },
  {
   "cell_type": "code",
   "execution_count": null,
   "metadata": {},
   "outputs": [],
   "source": []
  },
  {
   "cell_type": "markdown",
   "metadata": {},
   "source": [
    "## Upload data to DataPlatform"
   ]
  },
  {
   "cell_type": "code",
   "execution_count": 5,
   "metadata": {},
   "outputs": [],
   "source": [
    "from dsmlibrary.datanode import DataNode"
   ]
  },
  {
   "cell_type": "code",
   "execution_count": 6,
   "metadata": {},
   "outputs": [],
   "source": [
    "dir_raw_id = 121"
   ]
  },
  {
   "cell_type": "code",
   "execution_count": 7,
   "metadata": {},
   "outputs": [
    {
     "name": "stdout",
     "output_type": "stream",
     "text": [
      "Init DataNode sucessful!\n"
     ]
    }
   ],
   "source": [
    "datanode = DataNode()"
   ]
  },
  {
   "cell_type": "code",
   "execution_count": 8,
   "metadata": {},
   "outputs": [
    {
     "data": {
      "application/vnd.jupyter.widget-view+json": {
       "model_id": "a1dc4a8012814873bca0611b65d2a2b4",
       "version_major": 2,
       "version_minor": 0
      },
      "text/plain": [
       "  0%|          | 0.00/29.4k [00:00<?, ?B/s]"
      ]
     },
     "metadata": {},
     "output_type": "display_data"
    },
    {
     "data": {
      "text/plain": [
       "{'id': 858,\n",
       " 'msg': 'file Shopee_starfruit.csv create sucessful',\n",
       " 'path': 'taksaporn/DSI310-16/rawData/Shopee_starfruit.csv',\n",
       " 'uploaded': True}"
      ]
     },
     "execution_count": 8,
     "metadata": {},
     "output_type": "execute_result"
    }
   ],
   "source": [
    "datanode.upload_file(directory_id=dir_raw_id, file_path='Shopee_starfruit.csv')"
   ]
  },
  {
   "cell_type": "code",
   "execution_count": null,
   "metadata": {},
   "outputs": [],
   "source": []
  },
  {
   "cell_type": "code",
   "execution_count": null,
   "metadata": {},
   "outputs": [],
   "source": []
  }
 ],
 "metadata": {
  "kernelspec": {
   "display_name": "Python 3 (ipykernel)",
   "language": "python",
   "name": "python3"
  },
  "language_info": {
   "codemirror_mode": {
    "name": "ipython",
    "version": 3
   },
   "file_extension": ".py",
   "mimetype": "text/x-python",
   "name": "python",
   "nbconvert_exporter": "python",
   "pygments_lexer": "ipython3",
   "version": "3.10.5"
  }
 },
 "nbformat": 4,
 "nbformat_minor": 4
}
